{
 "cells": [
  {
   "cell_type": "code",
   "execution_count": 2,
   "metadata": {},
   "outputs": [],
   "source": [
    "import os \n",
    "os.environ[\"AWS_PROFILE\"] = \"hf-sm\""
   ]
  },
  {
   "cell_type": "code",
   "execution_count": 3,
   "metadata": {},
   "outputs": [
    {
     "data": {
      "text/plain": [
       "[{'generated_text': 'Can you tell me something about AWS CDK?\\n\\nAWS CDK (Cloud Development Kit) is an open-source software development framework that'}]"
      ]
     },
     "execution_count": 3,
     "metadata": {},
     "output_type": "execute_result"
    }
   ],
   "source": [
    "from sagemaker.huggingface import HuggingFacePredictor\n",
    "\n",
    "# create predictor \n",
    "predictor = HuggingFacePredictor(\"llama2-chat-endpoint-1h7s2afii09310d4d605026\") # llama2-chat-endpoint-1h7s2afii09310d4d605026\n",
    "\n",
    "# run inference \n",
    "predictor.predict({\"inputs\": \"Can you tell me something about AWS CDK?\"})"
   ]
  },
  {
   "cell_type": "code",
   "execution_count": 5,
   "metadata": {},
   "outputs": [
    {
     "name": "stdout",
     "output_type": "stream",
     "text": [
      "\n",
      "As an AWS Expert, I can provide you with a comparison of AWS CDK and Terraform, two popular infrastructure-as-code tools for managing and provisioning AWS resources. Both tools have their own strengths and weaknesses, and the choice between them depends on your specific needs and preferences. Here's a brief comparison to help you decide:\n",
      "\n",
      "AWS CDK:\n",
      "\n",
      "Pros:\n",
      "\n",
      "1. Native AWS integration: AWS CDK is built by AWS and provides tight integration with AWS services, making it easier to manage AWS resources and their dependencies.\n",
      "2. Simplified AWS resource model: AWS CDK uses a simpler resource model than Terraform, which can make it easier to understand and work with, especially for smaller projects.\n",
      "3. Easier to learn: AWS CDK has a more intuitive and user-friendly interface than Terraform, which can make it easier to learn and adopt.\n",
      "4. Built-in cost estimation: AWS CDK provides built-in cost estimation capabilities, which can help you optimize your AWS infrastructure costs.\n",
      "\n",
      "Cons:\n",
      "\n",
      "1. Limited flexibility: AWS CDK is designed to work within the AWS ecosystem, which means it may not be as flexible as Terraform when working with other cloud providers or on-premises infrastructure.\n",
      "2. No support for non-AWS services: AWS CDK only works with AWS services, so if you need to manage resources outside of AWS, Terraform may be a better choice.\n",
      "\n",
      "Terraform:\n",
      "\n",
      "Pros:\n",
      "\n",
      "1. Multi-cloud support: Terraform supports multiple cloud providers, including AWS, Azure, Google Cloud, and more, making it a good choice for organizations with a multi-cloud strategy.\n",
      "2. Flexible resource model: Terraform has a more flexible resource model than AWS CDK, which can make it easier to manage complex infrastructure and services across multiple cloud providers.\n",
      "3. Cross-account and cross-region deployments: Terraform supports cross-account and cross-region deployments, which can be useful for organizations with multiple AWS accounts or regions.\n",
      "4. Support for non-AWS services: Terraform can manage resources outside of AWS, such as on-premises infrastructure, which can be useful for organizations with a hybrid cloud strategy.\n",
      "\n",
      "Cons:\n",
      "\n",
      "1. Steeper learning curve:\n"
     ]
    }
   ],
   "source": [
    "# hyperparameters for llm\n",
    "prompt = f\"\"\"<s>[INST] <<SYS>>\n",
    "You are an AWS Expert\n",
    "<</SYS>>\n",
    "\n",
    "Should I rather use AWS CDK or Terraform? [/INST]\n",
    "\"\"\"\n",
    "payload = {\n",
    "  \"inputs\": prompt ,\n",
    "  \"parameters\": {\n",
    "    \"do_sample\": True,\n",
    "    \"top_p\": 0.6,\n",
    "    \"temperature\": 0.9,\n",
    "    \"top_k\": 50,\n",
    "    \"max_new_tokens\": 512,\n",
    "    \"repetition_penalty\": 1.03,\n",
    "    \"stop\": [\"</s>\"]\n",
    "  }\n",
    "}\n",
    "\n",
    "# send request to endpoint\n",
    "response = predictor.predict(payload)\n",
    "\n",
    "print(response[0][\"generated_text\"][len(prompt):])"
   ]
  },
  {
   "cell_type": "code",
   "execution_count": null,
   "metadata": {},
   "outputs": [],
   "source": []
  }
 ],
 "metadata": {
  "kernelspec": {
   "display_name": "hf",
   "language": "python",
   "name": "python3"
  },
  "language_info": {
   "codemirror_mode": {
    "name": "ipython",
    "version": 3
   },
   "file_extension": ".py",
   "mimetype": "text/x-python",
   "name": "python",
   "nbconvert_exporter": "python",
   "pygments_lexer": "ipython3",
   "version": "3.8.12"
  },
  "orig_nbformat": 4
 },
 "nbformat": 4,
 "nbformat_minor": 2
}
